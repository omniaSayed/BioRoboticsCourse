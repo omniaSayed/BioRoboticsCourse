{
  "cells": [
    {
      "cell_type": "markdown",
      "metadata": {
        "id": "PMSA4pffnb5K"
      },
      "source": [
        "# NumPy Practice\n",
        "\n",
        "This notebook offers a set of exercises for different tasks with NumPy.\n",
        "\n",
        "It should be noted there may be more than one different way to answer a question or complete an exercise.\n",
        "\n",
        "Different tasks will be detailed by comments or text.\n",
        "\n",
        "For further reference and resources, it's advised to check out the [NumPy documentation](https://numpy.org/devdocs/user/index.html).\n",
        "\n",
        "And if you get stuck, try searching for a question in the following format: \"how to do XYZ with numpy\", where XYZ is the function you want to leverage from NumPy."
      ]
    },
    {
      "cell_type": "code",
      "execution_count": 2,
      "metadata": {
        "id": "_b1WTaoSnb5N"
      },
      "outputs": [],
      "source": [
        "# Import NumPy as its abbreviation 'np'\n",
        "import numpy as np"
      ]
    },
    {
      "cell_type": "code",
      "execution_count": 3,
      "metadata": {
        "id": "oV2JxneMnb5O"
      },
      "outputs": [],
      "source": [
        "# Create a 1-dimensional NumPy array using np.array()\n",
        "one_d_array = np.array([1, 2, 3, 4, 5])\n",
        "# Create a 2-dimensional NumPy array using np.array()\n",
        "two_d_array = np.array([[1, 2, 3], [4, 5, 6]])\n",
        "# Create a 3-dimensional Numpy array using np.array()\n",
        "three_d_array = np.array([[[1, 2, 3], [4, 5, 6]], [[7, 8, 9], [10, 11, 12]]])"
      ]
    },
    {
      "cell_type": "markdown",
      "metadata": {
        "id": "9uDNCdWxnb5O"
      },
      "source": [
        "Now we've you've created 3 different arrays, let's find details about them.\n",
        "\n",
        "Find the shape, number of dimensions, data type, size and type of each array."
      ]
    },
    {
      "cell_type": "code",
      "execution_count": 5,
      "metadata": {
        "id": "adcV7AV5nb5P"
      },
      "outputs": [],
      "source": [
        "# Attributes of 1-dimensional array (shape,\n",
        "# number of dimensions, data type, size and type)\n",
        "shape = one_d_array.shape\n",
        "ndim = one_d_array.ndim\n",
        "dtype = one_d_array.dtype\n",
        "size = one_d_array.size\n",
        "type = one_d_array.dtype"
      ]
    },
    {
      "cell_type": "code",
      "execution_count": 6,
      "metadata": {
        "id": "zPzZrbwHnb5P"
      },
      "outputs": [],
      "source": [
        "# Attributes of 2-dimensional array\n",
        "shape = two_d_array.shape\n",
        "ndim = two_d_array.ndim\n",
        "dtype = two_d_array.dtype\n",
        "size = two_d_array.size\n",
        "type = two_d_array.dtype"
      ]
    },
    {
      "cell_type": "code",
      "execution_count": 7,
      "metadata": {
        "id": "jKdmPfOJnb5P"
      },
      "outputs": [],
      "source": [
        "# Attributes of 3-dimensional array\n",
        "shape = three_d_array.shape\n",
        "ndim = three_d_array.ndim\n",
        "dtype = three_d_array.dtype\n",
        "size = three_d_array.size\n",
        "type = three_d_array.dtype"
      ]
    },
    {
      "cell_type": "code",
      "execution_count": 8,
      "metadata": {
        "id": "Fh-59uc7nb5Q"
      },
      "outputs": [],
      "source": [
        "# Import pandas and create a DataFrame out of one\n",
        "# of the arrays you've created\n",
        "import pandas as pd\n",
        "df = pd.DataFrame(one_d_array)"
      ]
    },
    {
      "cell_type": "code",
      "execution_count": 9,
      "metadata": {
        "id": "0lJqh4Otnb5Q"
      },
      "outputs": [],
      "source": [
        "# Create an array of shape (10, 2) with only ones\n",
        "array = np.ones((10, 2))"
      ]
    },
    {
      "cell_type": "code",
      "execution_count": 10,
      "metadata": {
        "id": "6qjGLLu3nb5Q"
      },
      "outputs": [],
      "source": [
        "# Create an array of shape (7, 2, 3) of only zeros\n",
        "array = np.zeros((7, 2, 3))\n"
      ]
    },
    {
      "cell_type": "code",
      "execution_count": 11,
      "metadata": {
        "id": "EOB1FMzWnb5R"
      },
      "outputs": [],
      "source": [
        "# Create an array within a range of 0 and 100 with step 3\n",
        "array = np.arange(0, 101, 3)"
      ]
    },
    {
      "cell_type": "code",
      "execution_count": 12,
      "metadata": {
        "id": "LOdYIy9Snb5R"
      },
      "outputs": [],
      "source": [
        "# Create a random array with numbers between 0 and 10 of size (7, 2)\n",
        "array = np.random.randint(0, 11, size=(7, 2))"
      ]
    },
    {
      "cell_type": "code",
      "execution_count": 13,
      "metadata": {
        "id": "4Qdyt7rPnb5R"
      },
      "outputs": [],
      "source": [
        "# Create a random array of floats between 0 & 1 of shape (3, 5)\n",
        "array = np.random.rand(3, 5)\n"
      ]
    },
    {
      "cell_type": "code",
      "execution_count": 14,
      "metadata": {
        "id": "ry8JhM6Rnb5R"
      },
      "outputs": [],
      "source": [
        "# Set the random seed to 42\n",
        "np.random.seed(42)\n",
        "\n",
        "# Create a random array of numbers between 0 & 10 of size (4, 6)\n",
        "array = np.random.randint(0, 11, size=(4, 6))\n"
      ]
    },
    {
      "cell_type": "markdown",
      "metadata": {
        "id": "DQN3J9Bnnb5R"
      },
      "source": [
        "Run the cell above again, what happens?\n",
        "\n",
        "Are the numbers in the array different or the same? Why do think this is?"
      ]
    },
    {
      "cell_type": "code",
      "execution_count": 15,
      "metadata": {
        "id": "BED9Y9tYnb5R"
      },
      "outputs": [],
      "source": [
        "# Create an array of random numbers between 1 & 10 of size (3, 7)\n",
        "# and save it to a variable\n",
        "random_array = np.random.randint(1, 11, size=(3, 7))\n",
        "\n",
        "# Find the unique numbers in the array you just created\n",
        "unique_numbers = np.unique(random_array)\n"
      ]
    },
    {
      "cell_type": "code",
      "execution_count": 16,
      "metadata": {
        "id": "ezFIUeB6nb5R"
      },
      "outputs": [],
      "source": [
        "# Find the 0'th index of the latest array you created\n",
        "zeroth_index = random_array[0, 0]\n"
      ]
    },
    {
      "cell_type": "code",
      "execution_count": 17,
      "metadata": {
        "id": "SvPPdjHJnb5R"
      },
      "outputs": [],
      "source": [
        "# Get the first 2 rows of latest array you created\n",
        "first_two_rows = random_array[:2, :]"
      ]
    },
    {
      "cell_type": "code",
      "execution_count": 18,
      "metadata": {
        "id": "dBlaxtxKnb5R"
      },
      "outputs": [],
      "source": [
        "# Get the first 2 values of the first 2 rows of the latest array\n",
        "first_two_values = random_array[:2, :2]"
      ]
    },
    {
      "cell_type": "code",
      "execution_count": 19,
      "metadata": {
        "id": "95QkHzDpnb5R"
      },
      "outputs": [],
      "source": [
        "# Create a random array of numbers between 0 & 10\n",
        "random_array = np.random.randint(0, 11, size=(3, 5))\n",
        "\n",
        "# Create an array of ones\n",
        "ones_array = np.ones((3, 5))\n",
        "\n",
        "# Save the arrays to variables\n",
        "random_array_variable = random_array\n",
        "ones_array_variable = ones_array\n"
      ]
    },
    {
      "cell_type": "code",
      "execution_count": 20,
      "metadata": {
        "id": "1pwO9gS3nb5R"
      },
      "outputs": [],
      "source": [
        "# Add the two arrays together\n",
        "sum_array = random_array_variable + ones_array_variable"
      ]
    },
    {
      "cell_type": "code",
      "execution_count": 21,
      "metadata": {
        "id": "mwQ3Eoqynb5R"
      },
      "outputs": [],
      "source": [
        "# Create another array of ones of shape (5, 3)\n",
        "another_array_of_ones = np.ones((5, 3))"
      ]
    },
    {
      "cell_type": "code",
      "execution_count": 24,
      "metadata": {
        "colab": {
          "base_uri": "https://localhost:8080/",
          "height": 200
        },
        "id": "jV6xIDNxnb5S",
        "outputId": "499d86fe-20e3-4427-e821-62d4f99e1978"
      },
      "outputs": [
        {
          "output_type": "error",
          "ename": "ValueError",
          "evalue": "ignored",
          "traceback": [
            "\u001b[0;31m---------------------------------------------------------------------------\u001b[0m",
            "\u001b[0;31mValueError\u001b[0m                                Traceback (most recent call last)",
            "\u001b[0;32m<ipython-input-24-54b823743ce7>\u001b[0m in \u001b[0;36m<cell line: 2>\u001b[0;34m()\u001b[0m\n\u001b[1;32m      1\u001b[0m \u001b[0;31m# Try add the array of ones and the other most recent array together\u001b[0m\u001b[0;34m\u001b[0m\u001b[0;34m\u001b[0m\u001b[0m\n\u001b[0;32m----> 2\u001b[0;31m \u001b[0msum_array\u001b[0m \u001b[0;34m=\u001b[0m \u001b[0manother_array_of_ones\u001b[0m \u001b[0;34m+\u001b[0m \u001b[0mrandom_array\u001b[0m\u001b[0;34m\u001b[0m\u001b[0;34m\u001b[0m\u001b[0m\n\u001b[0m",
            "\u001b[0;31mValueError\u001b[0m: operands could not be broadcast together with shapes (5,3) (3,5) "
          ]
        }
      ],
      "source": [
        "# Try add the array of ones and the other most recent array together\n",
        "sum_array = another_array_of_ones + random_array"
      ]
    },
    {
      "cell_type": "markdown",
      "metadata": {
        "id": "8SilOTQinb5S"
      },
      "source": [
        "When you try the last cell, it produces an error. Why do think this is?\n",
        "\n",
        "How would you fix it?"
      ]
    },
    {
      "cell_type": "code",
      "execution_count": 25,
      "metadata": {
        "id": "Jbv_SQDjnb5S"
      },
      "outputs": [],
      "source": [
        "# Create another array of ones of shape (3, 5)\n",
        "another_array_of_ones = np.ones((3,5))"
      ]
    },
    {
      "cell_type": "code",
      "execution_count": 29,
      "metadata": {
        "id": "MTv7yehbnb5S"
      },
      "outputs": [],
      "source": [
        "# Subtract the new array of ones from the other most recent array\n",
        "difference_array = random_array - ones_array"
      ]
    },
    {
      "cell_type": "code",
      "execution_count": 32,
      "metadata": {
        "id": "yqER61Janb5S"
      },
      "outputs": [],
      "source": [
        "# Multiply the ones array with the latest array\n",
        "multi = another_array_of_ones*difference_array"
      ]
    },
    {
      "cell_type": "code",
      "execution_count": 33,
      "metadata": {
        "id": "C4yLbyDcnb5S"
      },
      "outputs": [],
      "source": [
        "# Take the latest array to the power of 2 using '**'\n",
        "multi **=2"
      ]
    },
    {
      "cell_type": "code",
      "execution_count": 34,
      "metadata": {
        "id": "8lodd0s1nb5S"
      },
      "outputs": [],
      "source": [
        "# Do the same thing with np.square()\n",
        "sqr = np.square(multi)"
      ]
    },
    {
      "cell_type": "code",
      "execution_count": 35,
      "metadata": {
        "id": "0CG6aZaunb5S"
      },
      "outputs": [],
      "source": [
        "# Find the mean of the latest array using np.mean()\n",
        "mean_arr = np.mean(sqr)"
      ]
    },
    {
      "cell_type": "code",
      "execution_count": 36,
      "metadata": {
        "id": "oNZuf3d1nb5S"
      },
      "outputs": [],
      "source": [
        "# Find the maximum of the latest array using np.max()\n",
        "max_val = np.max(mean_arr)"
      ]
    },
    {
      "cell_type": "code",
      "execution_count": 37,
      "metadata": {
        "id": "v9ehg3Dmnb5S"
      },
      "outputs": [],
      "source": [
        "# Find the minimum of the latest array using np.min()\n",
        "min_val = np.min(mean_arr)"
      ]
    },
    {
      "cell_type": "code",
      "execution_count": 38,
      "metadata": {
        "id": "Umz5nceZnb5S"
      },
      "outputs": [],
      "source": [
        "# Find the standard deviation of the latest array\n",
        "std = np.std(mean_arr)"
      ]
    },
    {
      "cell_type": "code",
      "execution_count": 39,
      "metadata": {
        "id": "UEzm10VTnb5S"
      },
      "outputs": [],
      "source": [
        "# Find the variance of the latest array\n",
        "var = np.var(mean_arr)"
      ]
    },
    {
      "cell_type": "code",
      "execution_count": 41,
      "metadata": {
        "colab": {
          "base_uri": "https://localhost:8080/"
        },
        "id": "gk-bjYBznb5S",
        "outputId": "35508e89-542d-499b-c8f8-e60f00867994"
      },
      "outputs": [
        {
          "output_type": "execute_result",
          "data": {
            "text/plain": [
              "array([[[ 8.],\n",
              "        [ 7.],\n",
              "        [ 8.],\n",
              "        [ 3.],\n",
              "        [ 0.]],\n",
              "\n",
              "       [[ 2.],\n",
              "        [ 5.],\n",
              "        [ 6.],\n",
              "        [ 1.],\n",
              "        [-1.]],\n",
              "\n",
              "       [[ 2.],\n",
              "        [ 0.],\n",
              "        [ 6.],\n",
              "        [ 2.],\n",
              "        [ 0.]]])"
            ]
          },
          "metadata": {},
          "execution_count": 41
        }
      ],
      "source": [
        "# Reshape the latest array to (3, 5, 1)\n",
        "difference_array.reshape((3, 5, 1))"
      ]
    },
    {
      "cell_type": "code",
      "execution_count": 42,
      "metadata": {
        "colab": {
          "base_uri": "https://localhost:8080/"
        },
        "id": "gOyNYiVCnb5S",
        "outputId": "b1ba2ab3-44bb-4419-ab03-ab66812634a8"
      },
      "outputs": [
        {
          "output_type": "execute_result",
          "data": {
            "text/plain": [
              "array([[ 8.,  2.,  2.],\n",
              "       [ 7.,  5.,  0.],\n",
              "       [ 8.,  6.,  6.],\n",
              "       [ 3.,  1.,  2.],\n",
              "       [ 0., -1.,  0.]])"
            ]
          },
          "metadata": {},
          "execution_count": 42
        }
      ],
      "source": [
        "# Transpose the latest array\n",
        "difference_array.T"
      ]
    },
    {
      "cell_type": "markdown",
      "metadata": {
        "id": "ucWSPOWInb5S"
      },
      "source": [
        "What does the transpose do?"
      ]
    },
    {
      "cell_type": "code",
      "execution_count": 43,
      "metadata": {
        "id": "PXhNgcDynb5T"
      },
      "outputs": [],
      "source": [
        "# Create two arrays of random integers between 0 to 10\n",
        "# one of size (3, 3) the other of size (3, 2)\n",
        "array_1 = np.random.randint(0, 11, size=(3, 3))\n",
        "array_2 = np.random.randint(0, 11, size=(3, 2))"
      ]
    },
    {
      "cell_type": "code",
      "execution_count": 44,
      "metadata": {
        "id": "ooyZBqeDnb5T"
      },
      "outputs": [],
      "source": [
        "# Perform a dot product on the two newest arrays you created\n",
        "dot_product = np.dot(array_1, array_2)\n"
      ]
    },
    {
      "cell_type": "code",
      "execution_count": 45,
      "metadata": {
        "id": "CufzuH1enb5T"
      },
      "outputs": [],
      "source": [
        "# Create two arrays of random integers between 0 to 10\n",
        "# both of size (4, 3)\n",
        "array_1 = np.random.randint(0, 11, size=(4, 3))\n",
        "array_2 = np.random.randint(0, 11, size=(4, 3))"
      ]
    },
    {
      "cell_type": "code",
      "execution_count": 49,
      "metadata": {
        "colab": {
          "base_uri": "https://localhost:8080/",
          "height": 236
        },
        "id": "IgN12xVfnb5T",
        "outputId": "7536c877-b169-48b7-ba83-ece63f63daca"
      },
      "outputs": [
        {
          "output_type": "error",
          "ename": "ValueError",
          "evalue": "ignored",
          "traceback": [
            "\u001b[0;31m---------------------------------------------------------------------------\u001b[0m",
            "\u001b[0;31mValueError\u001b[0m                                Traceback (most recent call last)",
            "\u001b[0;32m<ipython-input-49-99ac3339efd2>\u001b[0m in \u001b[0;36m<cell line: 2>\u001b[0;34m()\u001b[0m\n\u001b[1;32m      1\u001b[0m \u001b[0;31m# Perform a dot product on the two newest arrays you created\u001b[0m\u001b[0;34m\u001b[0m\u001b[0;34m\u001b[0m\u001b[0m\n\u001b[0;32m----> 2\u001b[0;31m \u001b[0mdot_product\u001b[0m \u001b[0;34m=\u001b[0m \u001b[0mnp\u001b[0m\u001b[0;34m.\u001b[0m\u001b[0mdot\u001b[0m\u001b[0;34m(\u001b[0m\u001b[0marray_1\u001b[0m\u001b[0;34m,\u001b[0m \u001b[0marray_2\u001b[0m\u001b[0;34m)\u001b[0m\u001b[0;34m\u001b[0m\u001b[0;34m\u001b[0m\u001b[0m\n\u001b[0m",
            "\u001b[0;32m/usr/local/lib/python3.10/dist-packages/numpy/core/overrides.py\u001b[0m in \u001b[0;36mdot\u001b[0;34m(*args, **kwargs)\u001b[0m\n",
            "\u001b[0;31mValueError\u001b[0m: shapes (4,3) and (4,3) not aligned: 3 (dim 1) != 4 (dim 0)"
          ]
        }
      ],
      "source": [
        "# Perform a dot product on the two newest arrays you created\n",
        "dot_product = np.dot(array_1, array_2)"
      ]
    },
    {
      "cell_type": "markdown",
      "metadata": {
        "id": "jW2MNpnOnb5T"
      },
      "source": [
        "It doesn't work. How would you fix it?"
      ]
    },
    {
      "cell_type": "code",
      "execution_count": 50,
      "metadata": {
        "id": "ymVxmrlSnb5U"
      },
      "outputs": [],
      "source": [
        "# Take the latest two arrays, perform a transpose on one of them and then perform\n",
        "# a dot product on them both\n",
        "dot_product = np.dot(array_1, array_2.T)"
      ]
    },
    {
      "cell_type": "markdown",
      "metadata": {
        "id": "WH6l8YCjnb5U"
      },
      "source": [
        "Notice how performing a transpose allows the dot product to happen.\n",
        "\n",
        "Why is this?\n",
        "\n",
        "Checking out the documentation on [`np.dot()`](https://docs.scipy.org/doc/numpy/reference/generated/numpy.dot.html) may help, as well as reading [Math is Fun's guide on the dot product](https://www.mathsisfun.com/algebra/vectors-dot-product.html).\n",
        "\n",
        "Let's now compare arrays."
      ]
    },
    {
      "cell_type": "code",
      "execution_count": 51,
      "metadata": {
        "id": "q3LMbAlKnb5U"
      },
      "outputs": [],
      "source": [
        "# Create two arrays of random integers between 0 & 10 of the same shape\n",
        "array_1 = np.random.randint(0, 11, size=(3, 4))\n",
        "array_2 = np.random.randint(0, 11, size=(3, 4))\n",
        "\n",
        "# Save the arrays to variables\n",
        "array_1_variable = array_1\n",
        "array_2_variable = array_2"
      ]
    },
    {
      "cell_type": "code",
      "execution_count": null,
      "metadata": {
        "id": "whHzddG8nb5U"
      },
      "outputs": [],
      "source": [
        "# Compare the two arrays with '>'\n"
      ]
    },
    {
      "cell_type": "markdown",
      "metadata": {
        "id": "h4MDINkunb5U"
      },
      "source": [
        "What happens when you compare the arrays with `>`?"
      ]
    },
    {
      "cell_type": "code",
      "execution_count": 52,
      "metadata": {
        "id": "NgoWa50Dnb5U"
      },
      "outputs": [],
      "source": [
        "# Compare the two arrays with '>='\n",
        "greater_array = np.greater(array_1, array_2)\n"
      ]
    },
    {
      "cell_type": "code",
      "execution_count": 53,
      "metadata": {
        "id": "aHo4L0YYnb5U"
      },
      "outputs": [],
      "source": [
        "# Find which elements of the first array are greater than 7\n",
        "greater_equal_array = np.greater_equal(array_1, array_2)\n"
      ]
    },
    {
      "cell_type": "code",
      "execution_count": 54,
      "metadata": {
        "id": "6oMKaS0fnb5U"
      },
      "outputs": [],
      "source": [
        "# Which parts of each array are equal? (try using '==')\n",
        "equal_array = np.equal(array_1, array_2)"
      ]
    },
    {
      "cell_type": "code",
      "execution_count": 55,
      "metadata": {
        "id": "2NDUuNmunb5U"
      },
      "outputs": [],
      "source": [
        "# Sort one of the arrays you just created in ascending order\n",
        "sorted_array_1 = np.sort(array_1)"
      ]
    },
    {
      "cell_type": "code",
      "execution_count": 56,
      "metadata": {
        "id": "zmBGoaOonb5U"
      },
      "outputs": [],
      "source": [
        "# Sort the indexes of one of the arrays you just created\n",
        "sorted_indices = np.argsort(array_1)"
      ]
    },
    {
      "cell_type": "code",
      "execution_count": 57,
      "metadata": {
        "id": "fANf71nlnb5U"
      },
      "outputs": [],
      "source": [
        "# Find the index with the maximum value in one of the arrays you've created\n",
        "max_index = np.argmax(array_1, axis=0)"
      ]
    },
    {
      "cell_type": "code",
      "execution_count": 58,
      "metadata": {
        "id": "m5YOoEHnnb5U"
      },
      "outputs": [],
      "source": [
        "# Find the index with the minimum value in one of the arrays you've created\n",
        "min_index = np.argmin(array_1, axis=0)"
      ]
    },
    {
      "cell_type": "code",
      "execution_count": 59,
      "metadata": {
        "id": "4gQes_2Bnb5V"
      },
      "outputs": [],
      "source": [
        "# Find the indexes with the maximum values down the 1st axis (axis=1)\n",
        "# of one of the arrays you created\n",
        "max_indices = np.argmax(array_1, axis=1)\n"
      ]
    },
    {
      "cell_type": "code",
      "execution_count": 60,
      "metadata": {
        "id": "BjovKFlQnb5V"
      },
      "outputs": [],
      "source": [
        "# Find the indexes with the minimum values across the 0th axis (axis=0)\n",
        "# of one of the arrays you created\n",
        "min_indices = np.argmin(array_1, axis=0)"
      ]
    },
    {
      "cell_type": "code",
      "execution_count": 28,
      "metadata": {
        "id": "sBWFZY0Vnb5V"
      },
      "outputs": [],
      "source": [
        "# Create an array of normally distributed random numbers\n",
        "normally_distributed_numbers = np.random.normal(loc=5, scale=2, size=10)"
      ]
    },
    {
      "cell_type": "code",
      "execution_count": 27,
      "metadata": {
        "id": "pM1lQ5Imnb5V"
      },
      "outputs": [],
      "source": [
        "# Create an array with 10 evenly spaced numbers between 1 and 100\n",
        "evenly_spaced_numbers = np.linspace(1, 100, 10)"
      ]
    },
    {
      "cell_type": "markdown",
      "metadata": {
        "id": "KBy29945nb5V"
      },
      "source": [
        "## Extensions\n",
        "\n",
        "For more exercises, check out the [NumPy quickstart tutorial](https://numpy.org/doc/stable/user/quickstart.html). A good practice would be to read through it and for the parts you find interesting, add them into the end of this notebook.\n",
        "\n",
        "Pay particular attention to the section on broadcasting. And most importantly, get hands-on with the code as much as possible. If in dobut, run the code, see what it does.\n",
        "\n",
        "The next place you could go is the [Stack Overflow page for the top questions and answers for NumPy](https://stackoverflow.com/questions/tagged/numpy?sort=MostVotes&edited=true). Often, you'll find some of the most common and useful NumPy functions here. Don't forget to play around with the filters! You'll likely find something helpful here.\n",
        "\n",
        "Finally, as always, remember, the best way to learn something new is to try it. And try it relentlessly. If you get interested in some kind of NumPy function, asking yourself, \"I wonder if NumPy could do that?\", go and find out."
      ]
    }
  ],
  "metadata": {
    "kernelspec": {
      "display_name": "Python 3",
      "language": "python",
      "name": "python3"
    },
    "language_info": {
      "codemirror_mode": {
        "name": "ipython",
        "version": 3
      },
      "file_extension": ".py",
      "mimetype": "text/x-python",
      "name": "python",
      "nbconvert_exporter": "python",
      "pygments_lexer": "ipython3",
      "version": "3.9.5"
    },
    "colab": {
      "provenance": []
    }
  },
  "nbformat": 4,
  "nbformat_minor": 0
}